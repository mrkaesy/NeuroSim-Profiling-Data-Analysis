{
  "nbformat": 4,
  "nbformat_minor": 0,
  "metadata": {
    "colab": {
      "provenance": []
    },
    "kernelspec": {
      "name": "python3",
      "display_name": "Python 3"
    },
    "language_info": {
      "name": "python"
    }
  },
  "cells": [
    {
      "cell_type": "code",
      "execution_count": null,
      "metadata": {
        "id": "dkDDioQ-yyQ_"
      },
      "outputs": [],
      "source": [
        "import pandas as pd\n",
        "import matplotlib.pyplot as plt\n",
        "\n",
        "# Data extracted from the LaTeX table\n",
        "data = {\n",
        "    'MemCellType': [1]*5 + [2]*5,\n",
        "    'numRowSubArray/numColSubArray': [64, 128, 256, 512, 1024]*2,\n",
        "    'Layer1': [7.35314, 7.35314, 7.35314, 7.35314, 14.7063, 0, 0, 0, 0, 0],\n",
        "    'Layer2': [182.652, 202.562, 200.86, 140.906, 194.603, 146.672, 159.43, 136.249, 81.8519, 60.8719],\n",
        "    'Layer3': [145.791, 140.488, 138.066, 116.362, 190.364, 167.7, 139.82, 118.422, 91.9188, 123.961],\n",
        "    'Layer4': [290.781, 283.485, 281.944, 235.876, 379.046, 331.789, 281.091, 238.51, 185.689, 246.289],\n",
        "    'Layer5': [355.08, 338.279, 342.904, 321.963, 566.64, 480.713, 380.626, 335.831, 279.889, 433.578],\n",
        "    'Layer6': [351.009, 341.716, 353.754, 328.316, 564.322, 436.374, 362.53, 325.887, 282.913, 431.387],\n",
        "    'Layer7': [1090, 1078.73, 1151.69, 1184.72, 2296, 1070.6, 951.109, 972.742, 941.727, 1762.03],\n",
        "    'Layer8': [17.0738, 16.8961, 18.0402, 18.5632, 35.992, 16.7776, 13.9073, 15.2468, 14.766, 27.6456]\n",
        "}\n",
        "\n",
        "# Creating DataFrame\n",
        "df = pd.DataFrame(data)\n",
        "\n",
        "# Setting a smaller figure size for the plot\n",
        "plt.figure(figsize=(10, 6))\n",
        "\n",
        "# Distinguishing between MemCellType 1 and 2 with different line styles\n",
        "line_styles = ['-', '--']\n",
        "memcell_legend = ['MemCellType 1', 'MemCellType 2']\n",
        "\n",
        "# Mapping symbols to layers\n",
        "symbol_map = {1: 'o', 2: '^', 3: 's', 4: 'd', 5: 'x', 6: '*', 7: '+', 8: 'h'}\n",
        "\n",
        "# Plotting\n",
        "for mem_type in df['MemCellType'].unique():\n",
        "    subset = df[df['MemCellType'] == mem_type]\n",
        "    for i, layer in enumerate(['Layer1', 'Layer2', 'Layer3', 'Layer4', 'Layer5', 'Layer6', 'Layer7', 'Layer8']):\n",
        "        plt.plot(subset['numRowSubArray/numColSubArray'], subset[layer], line_styles[mem_type - 1] + symbol_map[i + 1], label=f'Layer {i + 1} (Type {mem_type})')\n",
        "\n",
        "# Adding legend with MemCellType distinction\n",
        "plt.legend()\n",
        "\n",
        "# Adding plot title and labels\n",
        "plt.title('Leakage Power Across Layers and Configurations')\n",
        "plt.xlabel('numRowSubArray/numColSubArray')\n",
        "plt.ylabel('Leakage Power (uW)')\n",
        "plt.xscale('log')\n",
        "plt.yscale('log')\n",
        "plt.xticks(df['numRowSubArray/numColSubArray'].unique(), labels=df['numRowSubArray/numColSubArray'].unique())\n",
        "plt.grid(True, which=\"both\", ls=\"--\")\n",
        "\n",
        "# Note: To display the plot in your environment, uncomment the line below\n",
        "# plt.show()\n"
      ]
    }
  ]
}